{
 "cells": [
  {
   "cell_type": "code",
   "execution_count": 34,
   "metadata": {},
   "outputs": [
    {
     "name": "stderr",
     "output_type": "stream",
     "text": [
      "Using TensorFlow backend.\n"
     ]
    }
   ],
   "source": [
    "from keras.models import Sequential\n",
    "from denseNetGenerator import DataGenerator\n",
    "from keras.callbacks import ModelCheckpoint\n",
    "import matplotlib.pyplot as plt"
   ]
  },
  {
   "cell_type": "code",
   "execution_count": 35,
   "metadata": {},
   "outputs": [],
   "source": [
    "def fill_infos(train_dir, validation_dir):\n",
    "    partition = { 'train': [], 'validation' : [] }\n",
    "    labels = { }\n",
    "\n",
    "    train_image_names = []\n",
    "    sample_train_dirs = os.listdir(train_dir)\n",
    "    for sample_train_dir in sample_train_dirs: # sample_train_dir : directory of one vid\n",
    "        train_img_names_dir = os.listdir(train_dir + '/' + sample_train_dir) # train_img_names : image names in the directory of that vid\n",
    "        train_image_names.extend(train_img_names_dir)\n",
    "    partition['train'].extend(train_image_names)\n",
    "\n",
    "    validation_image_names = []\n",
    "    sample_validation_dirs = os.listdir(validation_dir)\n",
    "    for sample_validation_dir in sample_validation_dirs: # sample_train_dir : directory of one vid\n",
    "        validation_img_names_dir = os.listdir(validation_dir + '/' + sample_validation_dir) # train_img_names : image names in the directory of that vid\n",
    "        validation_image_names.extend(validation_img_names_dir)\n",
    "\n",
    "    partition['validation'].extend(validation_image_names)\n",
    "\n",
    "    all_image_names = partition['train'].copy()\n",
    "    all_image_names.extend(partition['validation'])\n",
    "    for img_name in all_image_names:\n",
    "        labels[img_name] = getOneHotLabel(img_name)\n",
    "\n",
    "    return partition, labels\n",
    "\n",
    "\n",
    "\n",
    "def getOneHotLabel(img_name):\n",
    "    label = img_name.split('-')[2][:-4]\n",
    "    if label == 'NoWashing':\n",
    "        return [1,0,0,0,0,0,0,0,0,0,0,0]\n",
    "    elif label == 'WetAndApplySoap':\n",
    "        return [0,1,0,0,0,0,0,0,0,0,0,0] \n",
    "    elif label == 'RubPalmToPalm':\n",
    "        return [0,0,1,0,0,0,0,0,0,0,0,0]\n",
    "    elif label == 'RubBackOfLeftHand':\n",
    "        return [0,0,0,1,0,0,0,0,0,0,0,0]\n",
    "    elif label == 'RubBackOfRightHand':\n",
    "        return [0,0,0,0,1,0,0,0,0,0,0,0]    \n",
    "    elif label == 'RubWithInterlacedFingers':\n",
    "        return [0,0,0,0,0,1,0,0,0,0,0,0]   \n",
    "    elif label == 'RubWithInterlockedFingers':\n",
    "        return [0,0,0,0,0,0,1,0,0,0,0,0] \n",
    "    elif label == 'RubLeftThumb':\n",
    "        return [0,0,0,0,0,0,0,1,0,0,0,0] \n",
    "    elif label == 'RubRightThumb':\n",
    "        return [0,0,0,0,0,0,0,0,1,0,0,0] \n",
    "    elif label == 'RubRightFingertips':\n",
    "        return [0,0,0,0,0,0,0,0,0,1,0,0] \n",
    "    elif label == 'RubLeftFingerTips':\n",
    "        return [0,0,0,0,0,0,0,0,0,0,1,0] \n",
    "    elif label == 'RinseHands':\n",
    "        return [0,0,0,0,0,0,0,0,0,0,0,1] \n",
    "    else:\n",
    "        print(label, 'wrong') "
   ]
  },
  {
   "cell_type": "code",
   "execution_count": 37,
   "metadata": {},
   "outputs": [
    {
     "ename": "TypeError",
     "evalue": "__init__() got multiple values for argument 'batch_size'",
     "output_type": "error",
     "traceback": [
      "\u001b[0;31m---------------------------------------------------------------------------\u001b[0m",
      "\u001b[0;31mTypeError\u001b[0m                                 Traceback (most recent call last)",
      "\u001b[0;32m<ipython-input-37-a5c343e26408>\u001b[0m in \u001b[0;36m<module>\u001b[0;34m\u001b[0m\n\u001b[1;32m     10\u001b[0m \u001b[0moptical_flow_dir\u001b[0m \u001b[0;34m=\u001b[0m \u001b[0;32mNone\u001b[0m\u001b[0;34m\u001b[0m\u001b[0m\n\u001b[1;32m     11\u001b[0m \u001b[0mpartition\u001b[0m\u001b[0;34m,\u001b[0m \u001b[0mlabels\u001b[0m \u001b[0;34m=\u001b[0m \u001b[0mfill_infos\u001b[0m\u001b[0;34m(\u001b[0m\u001b[0mtraining_dir\u001b[0m\u001b[0;34m,\u001b[0m \u001b[0mvalidation\u001b[0m\u001b[0;34m)\u001b[0m\u001b[0;34m\u001b[0m\u001b[0m\n\u001b[0;32m---> 12\u001b[0;31m \u001b[0mtraining_generator\u001b[0m   \u001b[0;34m=\u001b[0m \u001b[0mDataGenerator\u001b[0m\u001b[0;34m(\u001b[0m\u001b[0mtraining_dir\u001b[0m\u001b[0;34m,\u001b[0m \u001b[0;34m'train'\u001b[0m\u001b[0;34m,\u001b[0m \u001b[0mpartition\u001b[0m\u001b[0;34m[\u001b[0m\u001b[0;34m'train'\u001b[0m\u001b[0;34m]\u001b[0m\u001b[0;34m,\u001b[0m \u001b[0mlabels\u001b[0m\u001b[0;34m,\u001b[0m \u001b[0mnth_frame\u001b[0m\u001b[0;34m,\u001b[0m \u001b[0moptical_flow_dir\u001b[0m\u001b[0;34m,\u001b[0m \u001b[0;34m**\u001b[0m\u001b[0mparams\u001b[0m\u001b[0;34m)\u001b[0m\u001b[0;34m\u001b[0m\u001b[0m\n\u001b[0m\u001b[1;32m     13\u001b[0m \u001b[0mvalidation_generator\u001b[0m \u001b[0;34m=\u001b[0m \u001b[0mDataGenerator\u001b[0m\u001b[0;34m(\u001b[0m\u001b[0mtraining_dir\u001b[0m\u001b[0;34m,\u001b[0m \u001b[0;34m'validation'\u001b[0m\u001b[0;34m,\u001b[0m \u001b[0mpartition\u001b[0m\u001b[0;34m[\u001b[0m\u001b[0;34m'validation'\u001b[0m\u001b[0;34m]\u001b[0m\u001b[0;34m,\u001b[0m \u001b[0mlabels\u001b[0m\u001b[0;34m,\u001b[0m \u001b[0mnth_frame\u001b[0m\u001b[0;34m,\u001b[0m \u001b[0moptical_flow_dir\u001b[0m\u001b[0;34m,\u001b[0m \u001b[0;34m**\u001b[0m\u001b[0mparams\u001b[0m\u001b[0;34m)\u001b[0m\u001b[0;34m\u001b[0m\u001b[0m\n\u001b[1;32m     14\u001b[0m \u001b[0;34m\u001b[0m\u001b[0m\n",
      "\u001b[0;31mTypeError\u001b[0m: __init__() got multiple values for argument 'batch_size'"
     ]
    }
   ],
   "source": [
    "params = {'dim': (256,256,3),\n",
    "          'batch_size': 8,\n",
    "          'shuffle': True} \n",
    "fpath = \"check_points/DenseNetWithoutUnet/\" + \"DenseNet_{epoch:02d}-{val_accuracy:.2f}.hdf5\"\n",
    "\n",
    "training_dir = 'training'\n",
    "validation = 'validation'\n",
    "\n",
    "nth_frame = 0\n",
    "optical_flow_dir = None\n",
    "partition, labels = fill_infos(training_dir, validation)\n",
    "training_generator   = DataGenerator(training_dir, 'train', partition['train'], labels, nth_frame, optical_flow_dir, **params)\n",
    "validation_generator = DataGenerator(training_dir, 'validation', partition['validation'], labels, nth_frame, optical_flow_dir, **params)\n",
    "\n",
    "check_point = ModelCheckpoint(fpath, monitor='val_accuracy',\n",
    "                              verbose=2, save_best_only=True, mode='max')\n",
    "\n",
    "model = build_denseNet(params['dim'], 12)\n"
   ]
  },
  {
   "cell_type": "code",
   "execution_count": null,
   "metadata": {},
   "outputs": [],
   "source": [
    "#model.load_weights('check_points/unet20_30_256_motion_2_normalized/motion_unet22_19-0.96.hdf5')\n",
    "history = model.fit_generator(generator=training_generator,\n",
    "                    validation_data=validation_generator,\n",
    "                    callbacks=[check_point],\n",
    "                    epochs=50, verbose=1,\n",
    "                    use_multiprocessing=True, workers=12)"
   ]
  },
  {
   "cell_type": "code",
   "execution_count": null,
   "metadata": {},
   "outputs": [],
   "source": []
  }
 ],
 "metadata": {
  "kernelspec": {
   "display_name": "Python 3",
   "language": "python",
   "name": "python3"
  },
  "language_info": {
   "codemirror_mode": {
    "name": "ipython",
    "version": 3
   },
   "file_extension": ".py",
   "mimetype": "text/x-python",
   "name": "python",
   "nbconvert_exporter": "python",
   "pygments_lexer": "ipython3",
   "version": "3.5.2"
  }
 },
 "nbformat": 4,
 "nbformat_minor": 4
}
